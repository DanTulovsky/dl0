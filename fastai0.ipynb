{
 "cells": [
  {
   "cell_type": "code",
   "outputs": [],
   "source": [
    "## Start"
   ],
   "metadata": {
    "collapsed": false,
    "ExecuteTime": {
     "end_time": "2024-03-20T13:09:23.188518Z",
     "start_time": "2024-03-20T13:09:23.184884Z"
    }
   },
   "id": "a0412abb3515018",
   "execution_count": 1
  },
  {
   "cell_type": "code",
   "outputs": [
    {
     "name": "stdout",
     "output_type": "stream",
     "text": [
      "/home/dant/.local/bssh:/usr/local/bin:/usr/local/sbin:/home/dant/.pyenv/plugins/pyenv-virtualenv/shims:/home/dant/.pyenv/shims:/home/dant/.pyenv/bin:/home/dant/.pyenv/bin:/home/dant/.pyenv/versions/3.12.2/bin:/home/dant/.pyenv/libexec:/home/dant/.pyenv/plugins/python-build/bin:/home/dant/.pyenv/plugins/pyenv-virtualenv/bin:/home/dant/.pyenv/plugins/pyenv-update/bin:/home/dant/.pyenv/plugins/pyenv-doctor/bin:/home/dant/.local/bssh:/home/dant/.pyenv/shims:/usr/bin:/bin:/usr/games:/home/dant/.local/share/JetBrains/Toolbox/scripts:/home/dant/.local/bin:/home/dant/.local/share/JetBrains/Toolbox/scripts:/usr/local/bin:/home/dant/.local/bin\r\n",
      "dant-vm1\r\n",
      "/home/dant/.pyenv/shims/pip\r\n",
      "/home/dant/.pyenv/shims/python3\r\n"
     ]
    }
   ],
   "source": [
    "from pathlib import Path\n",
    "\n",
    "from fastai.data.core import DataLoaders\n",
    "!echo $PATH\n",
    "!hostname\n",
    "!which pip\n",
    "!which python3\n",
    "import fastbook"
   ],
   "metadata": {
    "collapsed": false,
    "ExecuteTime": {
     "end_time": "2024-03-20T13:10:19.400656Z",
     "start_time": "2024-03-20T13:10:13.962485Z"
    }
   },
   "id": "b9a19cf06737cd45",
   "execution_count": 2
  },
  {
   "cell_type": "code",
   "outputs": [
    {
     "name": "stdout",
     "output_type": "stream",
     "text": [
      "Requirement already satisfied: fastbook in /home/dant/.pyenv/versions/3.12.2/lib/python3.12/site-packages (0.0.29)\r\n",
      "Requirement already satisfied: fastai in /home/dant/.pyenv/versions/3.12.2/lib/python3.12/site-packages (2.7.14)\r\n",
      "Requirement already satisfied: pip in /home/dant/.pyenv/versions/3.12.2/lib/python3.12/site-packages (from fastbook) (24.0)\r\n",
      "Requirement already satisfied: packaging in /home/dant/.pyenv/versions/3.12.2/lib/python3.12/site-packages (from fastbook) (24.0)\r\n",
      "Requirement already satisfied: graphviz in /home/dant/.pyenv/versions/3.12.2/lib/python3.12/site-packages (from fastbook) (0.20.2)\r\n",
      "Requirement already satisfied: pandas in /home/dant/.pyenv/versions/3.12.2/lib/python3.12/site-packages (from fastbook) (2.2.1)\r\n",
      "Requirement already satisfied: requests in /home/dant/.pyenv/versions/3.12.2/lib/python3.12/site-packages (from fastbook) (2.31.0)\r\n",
      "Requirement already satisfied: transformers in /home/dant/.pyenv/versions/3.12.2/lib/python3.12/site-packages (from fastbook) (4.38.2)\r\n",
      "Requirement already satisfied: datasets in /home/dant/.pyenv/versions/3.12.2/lib/python3.12/site-packages (from fastbook) (2.18.0)\r\n",
      "Requirement already satisfied: ipywidgets<8 in /home/dant/.pyenv/versions/3.12.2/lib/python3.12/site-packages (from fastbook) (7.8.1)\r\n",
      "Requirement already satisfied: sentencepiece in /home/dant/.pyenv/versions/3.12.2/lib/python3.12/site-packages (from fastbook) (0.2.0)\r\n",
      "Requirement already satisfied: fastdownload<2,>=0.0.5 in /home/dant/.pyenv/versions/3.12.2/lib/python3.12/site-packages (from fastai) (0.0.7)\r\n",
      "Requirement already satisfied: fastcore<1.6,>=1.5.29 in /home/dant/.pyenv/versions/3.12.2/lib/python3.12/site-packages (from fastai) (1.5.29)\r\n",
      "Requirement already satisfied: torchvision>=0.11 in /home/dant/.pyenv/versions/3.12.2/lib/python3.12/site-packages (from fastai) (0.17.1)\r\n",
      "Requirement already satisfied: matplotlib in /home/dant/.pyenv/versions/3.12.2/lib/python3.12/site-packages (from fastai) (3.8.3)\r\n",
      "Requirement already satisfied: pyyaml in /home/dant/.pyenv/versions/3.12.2/lib/python3.12/site-packages (from fastai) (6.0.1)\r\n",
      "Requirement already satisfied: fastprogress>=0.2.4 in /home/dant/.pyenv/versions/3.12.2/lib/python3.12/site-packages (from fastai) (1.0.3)\r\n",
      "Requirement already satisfied: pillow>=9.0.0 in /home/dant/.pyenv/versions/3.12.2/lib/python3.12/site-packages (from fastai) (10.2.0)\r\n",
      "Requirement already satisfied: scikit-learn in /home/dant/.pyenv/versions/3.12.2/lib/python3.12/site-packages (from fastai) (1.4.1.post1)\r\n",
      "Requirement already satisfied: scipy in /home/dant/.pyenv/versions/3.12.2/lib/python3.12/site-packages (from fastai) (1.12.0)\r\n",
      "Requirement already satisfied: spacy<4 in /home/dant/.pyenv/versions/3.12.2/lib/python3.12/site-packages (from fastai) (3.7.4)\r\n",
      "Requirement already satisfied: torch<2.3,>=1.10 in /home/dant/.pyenv/versions/3.12.2/lib/python3.12/site-packages (from fastai) (2.2.1)\r\n",
      "Requirement already satisfied: comm>=0.1.3 in /home/dant/.pyenv/versions/3.12.2/lib/python3.12/site-packages (from ipywidgets<8->fastbook) (0.2.2)\r\n",
      "Requirement already satisfied: ipython-genutils~=0.2.0 in /home/dant/.pyenv/versions/3.12.2/lib/python3.12/site-packages (from ipywidgets<8->fastbook) (0.2.0)\r\n",
      "Requirement already satisfied: traitlets>=4.3.1 in /home/dant/.pyenv/versions/3.12.2/lib/python3.12/site-packages (from ipywidgets<8->fastbook) (5.14.2)\r\n",
      "Requirement already satisfied: widgetsnbextension~=3.6.6 in /home/dant/.pyenv/versions/3.12.2/lib/python3.12/site-packages (from ipywidgets<8->fastbook) (3.6.6)\r\n",
      "Requirement already satisfied: ipython>=4.0.0 in /home/dant/.pyenv/versions/3.12.2/lib/python3.12/site-packages (from ipywidgets<8->fastbook) (8.22.2)\r\n",
      "Requirement already satisfied: jupyterlab-widgets<3,>=1.0.0 in /home/dant/.pyenv/versions/3.12.2/lib/python3.12/site-packages (from ipywidgets<8->fastbook) (1.1.7)\r\n",
      "Requirement already satisfied: spacy-legacy<3.1.0,>=3.0.11 in /home/dant/.pyenv/versions/3.12.2/lib/python3.12/site-packages (from spacy<4->fastai) (3.0.12)\r\n",
      "Requirement already satisfied: spacy-loggers<2.0.0,>=1.0.0 in /home/dant/.pyenv/versions/3.12.2/lib/python3.12/site-packages (from spacy<4->fastai) (1.0.5)\r\n",
      "Requirement already satisfied: murmurhash<1.1.0,>=0.28.0 in /home/dant/.pyenv/versions/3.12.2/lib/python3.12/site-packages (from spacy<4->fastai) (1.0.10)\r\n",
      "Requirement already satisfied: cymem<2.1.0,>=2.0.2 in /home/dant/.pyenv/versions/3.12.2/lib/python3.12/site-packages (from spacy<4->fastai) (2.0.8)\r\n",
      "Requirement already satisfied: preshed<3.1.0,>=3.0.2 in /home/dant/.pyenv/versions/3.12.2/lib/python3.12/site-packages (from spacy<4->fastai) (3.0.9)\r\n",
      "Requirement already satisfied: thinc<8.3.0,>=8.2.2 in /home/dant/.pyenv/versions/3.12.2/lib/python3.12/site-packages (from spacy<4->fastai) (8.2.3)\r\n",
      "Requirement already satisfied: wasabi<1.2.0,>=0.9.1 in /home/dant/.pyenv/versions/3.12.2/lib/python3.12/site-packages (from spacy<4->fastai) (1.1.2)\r\n",
      "Requirement already satisfied: srsly<3.0.0,>=2.4.3 in /home/dant/.pyenv/versions/3.12.2/lib/python3.12/site-packages (from spacy<4->fastai) (2.4.8)\r\n",
      "Requirement already satisfied: catalogue<2.1.0,>=2.0.6 in /home/dant/.pyenv/versions/3.12.2/lib/python3.12/site-packages (from spacy<4->fastai) (2.0.10)\r\n",
      "Requirement already satisfied: weasel<0.4.0,>=0.1.0 in /home/dant/.pyenv/versions/3.12.2/lib/python3.12/site-packages (from spacy<4->fastai) (0.3.4)\r\n",
      "Requirement already satisfied: typer<0.10.0,>=0.3.0 in /home/dant/.pyenv/versions/3.12.2/lib/python3.12/site-packages (from spacy<4->fastai) (0.9.0)\r\n",
      "Requirement already satisfied: smart-open<7.0.0,>=5.2.1 in /home/dant/.pyenv/versions/3.12.2/lib/python3.12/site-packages (from spacy<4->fastai) (6.4.0)\r\n",
      "Requirement already satisfied: tqdm<5.0.0,>=4.38.0 in /home/dant/.pyenv/versions/3.12.2/lib/python3.12/site-packages (from spacy<4->fastai) (4.66.2)\r\n",
      "Requirement already satisfied: pydantic!=1.8,!=1.8.1,<3.0.0,>=1.7.4 in /home/dant/.pyenv/versions/3.12.2/lib/python3.12/site-packages (from spacy<4->fastai) (2.6.4)\r\n",
      "Requirement already satisfied: jinja2 in /home/dant/.pyenv/versions/3.12.2/lib/python3.12/site-packages (from spacy<4->fastai) (3.1.3)\r\n",
      "Requirement already satisfied: setuptools in /home/dant/.pyenv/versions/3.12.2/lib/python3.12/site-packages (from spacy<4->fastai) (69.2.0)\r\n",
      "Requirement already satisfied: langcodes<4.0.0,>=3.2.0 in /home/dant/.pyenv/versions/3.12.2/lib/python3.12/site-packages (from spacy<4->fastai) (3.3.0)\r\n",
      "Requirement already satisfied: numpy>=1.19.0 in /home/dant/.pyenv/versions/3.12.2/lib/python3.12/site-packages (from spacy<4->fastai) (1.26.4)\r\n",
      "Requirement already satisfied: charset-normalizer<4,>=2 in /home/dant/.pyenv/versions/3.12.2/lib/python3.12/site-packages (from requests->fastbook) (3.3.2)\r\n",
      "Requirement already satisfied: idna<4,>=2.5 in /home/dant/.pyenv/versions/3.12.2/lib/python3.12/site-packages (from requests->fastbook) (3.6)\r\n",
      "Requirement already satisfied: urllib3<3,>=1.21.1 in /home/dant/.pyenv/versions/3.12.2/lib/python3.12/site-packages (from requests->fastbook) (2.2.1)\r\n",
      "Requirement already satisfied: certifi>=2017.4.17 in /home/dant/.pyenv/versions/3.12.2/lib/python3.12/site-packages (from requests->fastbook) (2024.2.2)\r\n",
      "Requirement already satisfied: filelock in /home/dant/.pyenv/versions/3.12.2/lib/python3.12/site-packages (from torch<2.3,>=1.10->fastai) (3.13.1)\r\n",
      "Requirement already satisfied: typing-extensions>=4.8.0 in /home/dant/.pyenv/versions/3.12.2/lib/python3.12/site-packages (from torch<2.3,>=1.10->fastai) (4.10.0)\r\n",
      "Requirement already satisfied: sympy in /home/dant/.pyenv/versions/3.12.2/lib/python3.12/site-packages (from torch<2.3,>=1.10->fastai) (1.12)\r\n",
      "Requirement already satisfied: networkx in /home/dant/.pyenv/versions/3.12.2/lib/python3.12/site-packages (from torch<2.3,>=1.10->fastai) (3.2.1)\r\n",
      "Requirement already satisfied: fsspec in /home/dant/.pyenv/versions/3.12.2/lib/python3.12/site-packages (from torch<2.3,>=1.10->fastai) (2024.2.0)\r\n",
      "Requirement already satisfied: nvidia-cuda-nvrtc-cu12==12.1.105 in /home/dant/.pyenv/versions/3.12.2/lib/python3.12/site-packages (from torch<2.3,>=1.10->fastai) (12.1.105)\r\n",
      "Requirement already satisfied: nvidia-cuda-runtime-cu12==12.1.105 in /home/dant/.pyenv/versions/3.12.2/lib/python3.12/site-packages (from torch<2.3,>=1.10->fastai) (12.1.105)\r\n",
      "Requirement already satisfied: nvidia-cuda-cupti-cu12==12.1.105 in /home/dant/.pyenv/versions/3.12.2/lib/python3.12/site-packages (from torch<2.3,>=1.10->fastai) (12.1.105)\r\n",
      "Requirement already satisfied: nvidia-cudnn-cu12==8.9.2.26 in /home/dant/.pyenv/versions/3.12.2/lib/python3.12/site-packages (from torch<2.3,>=1.10->fastai) (8.9.2.26)\r\n",
      "Requirement already satisfied: nvidia-cublas-cu12==12.1.3.1 in /home/dant/.pyenv/versions/3.12.2/lib/python3.12/site-packages (from torch<2.3,>=1.10->fastai) (12.1.3.1)\r\n",
      "Requirement already satisfied: nvidia-cufft-cu12==11.0.2.54 in /home/dant/.pyenv/versions/3.12.2/lib/python3.12/site-packages (from torch<2.3,>=1.10->fastai) (11.0.2.54)\r\n",
      "Requirement already satisfied: nvidia-curand-cu12==10.3.2.106 in /home/dant/.pyenv/versions/3.12.2/lib/python3.12/site-packages (from torch<2.3,>=1.10->fastai) (10.3.2.106)\r\n",
      "Requirement already satisfied: nvidia-cusolver-cu12==11.4.5.107 in /home/dant/.pyenv/versions/3.12.2/lib/python3.12/site-packages (from torch<2.3,>=1.10->fastai) (11.4.5.107)\r\n",
      "Requirement already satisfied: nvidia-cusparse-cu12==12.1.0.106 in /home/dant/.pyenv/versions/3.12.2/lib/python3.12/site-packages (from torch<2.3,>=1.10->fastai) (12.1.0.106)\r\n",
      "Requirement already satisfied: nvidia-nccl-cu12==2.19.3 in /home/dant/.pyenv/versions/3.12.2/lib/python3.12/site-packages (from torch<2.3,>=1.10->fastai) (2.19.3)\r\n",
      "Requirement already satisfied: nvidia-nvtx-cu12==12.1.105 in /home/dant/.pyenv/versions/3.12.2/lib/python3.12/site-packages (from torch<2.3,>=1.10->fastai) (12.1.105)\r\n",
      "Requirement already satisfied: nvidia-nvjitlink-cu12 in /home/dant/.pyenv/versions/3.12.2/lib/python3.12/site-packages (from nvidia-cusolver-cu12==11.4.5.107->torch<2.3,>=1.10->fastai) (12.4.99)\r\n",
      "Requirement already satisfied: pyarrow>=12.0.0 in /home/dant/.pyenv/versions/3.12.2/lib/python3.12/site-packages (from datasets->fastbook) (15.0.2)\r\n",
      "Requirement already satisfied: pyarrow-hotfix in /home/dant/.pyenv/versions/3.12.2/lib/python3.12/site-packages (from datasets->fastbook) (0.6)\r\n",
      "Requirement already satisfied: dill<0.3.9,>=0.3.0 in /home/dant/.pyenv/versions/3.12.2/lib/python3.12/site-packages (from datasets->fastbook) (0.3.8)\r\n",
      "Requirement already satisfied: xxhash in /home/dant/.pyenv/versions/3.12.2/lib/python3.12/site-packages (from datasets->fastbook) (3.4.1)\r\n",
      "Requirement already satisfied: multiprocess in /home/dant/.pyenv/versions/3.12.2/lib/python3.12/site-packages (from datasets->fastbook) (0.70.16)\r\n",
      "Requirement already satisfied: aiohttp in /home/dant/.pyenv/versions/3.12.2/lib/python3.12/site-packages (from datasets->fastbook) (3.9.3)\r\n",
      "Requirement already satisfied: huggingface-hub>=0.19.4 in /home/dant/.pyenv/versions/3.12.2/lib/python3.12/site-packages (from datasets->fastbook) (0.21.4)\r\n",
      "Requirement already satisfied: contourpy>=1.0.1 in /home/dant/.pyenv/versions/3.12.2/lib/python3.12/site-packages (from matplotlib->fastai) (1.2.0)\r\n",
      "Requirement already satisfied: cycler>=0.10 in /home/dant/.pyenv/versions/3.12.2/lib/python3.12/site-packages (from matplotlib->fastai) (0.12.1)\r\n",
      "Requirement already satisfied: fonttools>=4.22.0 in /home/dant/.pyenv/versions/3.12.2/lib/python3.12/site-packages (from matplotlib->fastai) (4.50.0)\r\n",
      "Requirement already satisfied: kiwisolver>=1.3.1 in /home/dant/.pyenv/versions/3.12.2/lib/python3.12/site-packages (from matplotlib->fastai) (1.4.5)\r\n",
      "Requirement already satisfied: pyparsing>=2.3.1 in /home/dant/.pyenv/versions/3.12.2/lib/python3.12/site-packages (from matplotlib->fastai) (3.1.2)\r\n",
      "Requirement already satisfied: python-dateutil>=2.7 in /home/dant/.pyenv/versions/3.12.2/lib/python3.12/site-packages (from matplotlib->fastai) (2.9.0.post0)\r\n",
      "Requirement already satisfied: pytz>=2020.1 in /home/dant/.pyenv/versions/3.12.2/lib/python3.12/site-packages (from pandas->fastbook) (2024.1)\r\n",
      "Requirement already satisfied: tzdata>=2022.7 in /home/dant/.pyenv/versions/3.12.2/lib/python3.12/site-packages (from pandas->fastbook) (2024.1)\r\n",
      "Requirement already satisfied: joblib>=1.2.0 in /home/dant/.pyenv/versions/3.12.2/lib/python3.12/site-packages (from scikit-learn->fastai) (1.3.2)\r\n",
      "Requirement already satisfied: threadpoolctl>=2.0.0 in /home/dant/.pyenv/versions/3.12.2/lib/python3.12/site-packages (from scikit-learn->fastai) (3.3.0)\r\n",
      "Requirement already satisfied: regex!=2019.12.17 in /home/dant/.pyenv/versions/3.12.2/lib/python3.12/site-packages (from transformers->fastbook) (2023.12.25)\r\n",
      "Requirement already satisfied: tokenizers<0.19,>=0.14 in /home/dant/.pyenv/versions/3.12.2/lib/python3.12/site-packages (from transformers->fastbook) (0.15.2)\r\n",
      "Requirement already satisfied: safetensors>=0.4.1 in /home/dant/.pyenv/versions/3.12.2/lib/python3.12/site-packages (from transformers->fastbook) (0.4.2)\r\n",
      "Requirement already satisfied: aiosignal>=1.1.2 in /home/dant/.pyenv/versions/3.12.2/lib/python3.12/site-packages (from aiohttp->datasets->fastbook) (1.3.1)\r\n",
      "Requirement already satisfied: attrs>=17.3.0 in /home/dant/.pyenv/versions/3.12.2/lib/python3.12/site-packages (from aiohttp->datasets->fastbook) (23.2.0)\r\n",
      "Requirement already satisfied: frozenlist>=1.1.1 in /home/dant/.pyenv/versions/3.12.2/lib/python3.12/site-packages (from aiohttp->datasets->fastbook) (1.4.1)\r\n",
      "Requirement already satisfied: multidict<7.0,>=4.5 in /home/dant/.pyenv/versions/3.12.2/lib/python3.12/site-packages (from aiohttp->datasets->fastbook) (6.0.5)\r\n",
      "Requirement already satisfied: yarl<2.0,>=1.0 in /home/dant/.pyenv/versions/3.12.2/lib/python3.12/site-packages (from aiohttp->datasets->fastbook) (1.9.4)\r\n",
      "Requirement already satisfied: decorator in /home/dant/.pyenv/versions/3.12.2/lib/python3.12/site-packages (from ipython>=4.0.0->ipywidgets<8->fastbook) (5.1.1)\r\n",
      "Requirement already satisfied: jedi>=0.16 in /home/dant/.pyenv/versions/3.12.2/lib/python3.12/site-packages (from ipython>=4.0.0->ipywidgets<8->fastbook) (0.19.1)\r\n",
      "Requirement already satisfied: matplotlib-inline in /home/dant/.pyenv/versions/3.12.2/lib/python3.12/site-packages (from ipython>=4.0.0->ipywidgets<8->fastbook) (0.1.6)\r\n",
      "Requirement already satisfied: prompt-toolkit<3.1.0,>=3.0.41 in /home/dant/.pyenv/versions/3.12.2/lib/python3.12/site-packages (from ipython>=4.0.0->ipywidgets<8->fastbook) (3.0.43)\r\n",
      "Requirement already satisfied: pygments>=2.4.0 in /home/dant/.pyenv/versions/3.12.2/lib/python3.12/site-packages (from ipython>=4.0.0->ipywidgets<8->fastbook) (2.17.2)\r\n",
      "Requirement already satisfied: stack-data in /home/dant/.pyenv/versions/3.12.2/lib/python3.12/site-packages (from ipython>=4.0.0->ipywidgets<8->fastbook) (0.6.3)\r\n",
      "Requirement already satisfied: pexpect>4.3 in /home/dant/.pyenv/versions/3.12.2/lib/python3.12/site-packages (from ipython>=4.0.0->ipywidgets<8->fastbook) (4.9.0)\r\n",
      "Requirement already satisfied: annotated-types>=0.4.0 in /home/dant/.pyenv/versions/3.12.2/lib/python3.12/site-packages (from pydantic!=1.8,!=1.8.1,<3.0.0,>=1.7.4->spacy<4->fastai) (0.6.0)\r\n",
      "Requirement already satisfied: pydantic-core==2.16.3 in /home/dant/.pyenv/versions/3.12.2/lib/python3.12/site-packages (from pydantic!=1.8,!=1.8.1,<3.0.0,>=1.7.4->spacy<4->fastai) (2.16.3)\r\n",
      "Requirement already satisfied: six>=1.5 in /home/dant/.pyenv/versions/3.12.2/lib/python3.12/site-packages (from python-dateutil>=2.7->matplotlib->fastai) (1.16.0)\r\n",
      "Requirement already satisfied: blis<0.8.0,>=0.7.8 in /home/dant/.pyenv/versions/3.12.2/lib/python3.12/site-packages (from thinc<8.3.0,>=8.2.2->spacy<4->fastai) (0.7.11)\r\n",
      "Requirement already satisfied: confection<1.0.0,>=0.0.1 in /home/dant/.pyenv/versions/3.12.2/lib/python3.12/site-packages (from thinc<8.3.0,>=8.2.2->spacy<4->fastai) (0.1.4)\r\n",
      "Requirement already satisfied: click<9.0.0,>=7.1.1 in /home/dant/.pyenv/versions/3.12.2/lib/python3.12/site-packages (from typer<0.10.0,>=0.3.0->spacy<4->fastai) (8.1.7)\r\n",
      "Requirement already satisfied: cloudpathlib<0.17.0,>=0.7.0 in /home/dant/.pyenv/versions/3.12.2/lib/python3.12/site-packages (from weasel<0.4.0,>=0.1.0->spacy<4->fastai) (0.16.0)\r\n",
      "Requirement already satisfied: notebook>=4.4.1 in /home/dant/.pyenv/versions/3.12.2/lib/python3.12/site-packages (from widgetsnbextension~=3.6.6->ipywidgets<8->fastbook) (7.1.2)\r\n",
      "Requirement already satisfied: MarkupSafe>=2.0 in /home/dant/.pyenv/versions/3.12.2/lib/python3.12/site-packages (from jinja2->spacy<4->fastai) (2.1.5)\r\n",
      "Requirement already satisfied: mpmath>=0.19 in /home/dant/.pyenv/versions/3.12.2/lib/python3.12/site-packages (from sympy->torch<2.3,>=1.10->fastai) (1.3.0)\r\n",
      "Requirement already satisfied: parso<0.9.0,>=0.8.3 in /home/dant/.pyenv/versions/3.12.2/lib/python3.12/site-packages (from jedi>=0.16->ipython>=4.0.0->ipywidgets<8->fastbook) (0.8.3)\r\n",
      "Requirement already satisfied: jupyter-server<3,>=2.4.0 in /home/dant/.pyenv/versions/3.12.2/lib/python3.12/site-packages (from notebook>=4.4.1->widgetsnbextension~=3.6.6->ipywidgets<8->fastbook) (2.13.0)\r\n",
      "Requirement already satisfied: jupyterlab-server<3,>=2.22.1 in /home/dant/.pyenv/versions/3.12.2/lib/python3.12/site-packages (from notebook>=4.4.1->widgetsnbextension~=3.6.6->ipywidgets<8->fastbook) (2.25.4)\r\n",
      "Requirement already satisfied: jupyterlab<4.2,>=4.1.1 in /home/dant/.pyenv/versions/3.12.2/lib/python3.12/site-packages (from notebook>=4.4.1->widgetsnbextension~=3.6.6->ipywidgets<8->fastbook) (4.1.5)\r\n",
      "Requirement already satisfied: notebook-shim<0.3,>=0.2 in /home/dant/.pyenv/versions/3.12.2/lib/python3.12/site-packages (from notebook>=4.4.1->widgetsnbextension~=3.6.6->ipywidgets<8->fastbook) (0.2.4)\r\n",
      "Requirement already satisfied: tornado>=6.2.0 in /home/dant/.pyenv/versions/3.12.2/lib/python3.12/site-packages (from notebook>=4.4.1->widgetsnbextension~=3.6.6->ipywidgets<8->fastbook) (6.4)\r\n",
      "Requirement already satisfied: ptyprocess>=0.5 in /home/dant/.pyenv/versions/3.12.2/lib/python3.12/site-packages (from pexpect>4.3->ipython>=4.0.0->ipywidgets<8->fastbook) (0.7.0)\r\n",
      "Requirement already satisfied: wcwidth in /home/dant/.pyenv/versions/3.12.2/lib/python3.12/site-packages (from prompt-toolkit<3.1.0,>=3.0.41->ipython>=4.0.0->ipywidgets<8->fastbook) (0.2.13)\r\n",
      "Requirement already satisfied: executing>=1.2.0 in /home/dant/.pyenv/versions/3.12.2/lib/python3.12/site-packages (from stack-data->ipython>=4.0.0->ipywidgets<8->fastbook) (2.0.1)\r\n",
      "Requirement already satisfied: asttokens>=2.1.0 in /home/dant/.pyenv/versions/3.12.2/lib/python3.12/site-packages (from stack-data->ipython>=4.0.0->ipywidgets<8->fastbook) (2.4.1)\r\n",
      "Requirement already satisfied: pure-eval in /home/dant/.pyenv/versions/3.12.2/lib/python3.12/site-packages (from stack-data->ipython>=4.0.0->ipywidgets<8->fastbook) (0.2.2)\r\n",
      "Requirement already satisfied: anyio>=3.1.0 in /home/dant/.pyenv/versions/3.12.2/lib/python3.12/site-packages (from jupyter-server<3,>=2.4.0->notebook>=4.4.1->widgetsnbextension~=3.6.6->ipywidgets<8->fastbook) (4.3.0)\r\n",
      "Requirement already satisfied: argon2-cffi in /home/dant/.pyenv/versions/3.12.2/lib/python3.12/site-packages (from jupyter-server<3,>=2.4.0->notebook>=4.4.1->widgetsnbextension~=3.6.6->ipywidgets<8->fastbook) (23.1.0)\r\n",
      "Requirement already satisfied: jupyter-client>=7.4.4 in /home/dant/.pyenv/versions/3.12.2/lib/python3.12/site-packages (from jupyter-server<3,>=2.4.0->notebook>=4.4.1->widgetsnbextension~=3.6.6->ipywidgets<8->fastbook) (8.6.1)\r\n",
      "Requirement already satisfied: jupyter-core!=5.0.*,>=4.12 in /home/dant/.pyenv/versions/3.12.2/lib/python3.12/site-packages (from jupyter-server<3,>=2.4.0->notebook>=4.4.1->widgetsnbextension~=3.6.6->ipywidgets<8->fastbook) (5.7.2)\r\n",
      "Requirement already satisfied: jupyter-events>=0.9.0 in /home/dant/.pyenv/versions/3.12.2/lib/python3.12/site-packages (from jupyter-server<3,>=2.4.0->notebook>=4.4.1->widgetsnbextension~=3.6.6->ipywidgets<8->fastbook) (0.10.0)\r\n",
      "Requirement already satisfied: jupyter-server-terminals in /home/dant/.pyenv/versions/3.12.2/lib/python3.12/site-packages (from jupyter-server<3,>=2.4.0->notebook>=4.4.1->widgetsnbextension~=3.6.6->ipywidgets<8->fastbook) (0.5.3)\r\n",
      "Requirement already satisfied: nbconvert>=6.4.4 in /home/dant/.pyenv/versions/3.12.2/lib/python3.12/site-packages (from jupyter-server<3,>=2.4.0->notebook>=4.4.1->widgetsnbextension~=3.6.6->ipywidgets<8->fastbook) (7.16.2)\r\n",
      "Requirement already satisfied: nbformat>=5.3.0 in /home/dant/.pyenv/versions/3.12.2/lib/python3.12/site-packages (from jupyter-server<3,>=2.4.0->notebook>=4.4.1->widgetsnbextension~=3.6.6->ipywidgets<8->fastbook) (5.10.3)\r\n",
      "Requirement already satisfied: overrides in /home/dant/.pyenv/versions/3.12.2/lib/python3.12/site-packages (from jupyter-server<3,>=2.4.0->notebook>=4.4.1->widgetsnbextension~=3.6.6->ipywidgets<8->fastbook) (7.7.0)\r\n",
      "Requirement already satisfied: prometheus-client in /home/dant/.pyenv/versions/3.12.2/lib/python3.12/site-packages (from jupyter-server<3,>=2.4.0->notebook>=4.4.1->widgetsnbextension~=3.6.6->ipywidgets<8->fastbook) (0.20.0)\r\n",
      "Requirement already satisfied: pyzmq>=24 in /home/dant/.pyenv/versions/3.12.2/lib/python3.12/site-packages (from jupyter-server<3,>=2.4.0->notebook>=4.4.1->widgetsnbextension~=3.6.6->ipywidgets<8->fastbook) (25.1.2)\r\n",
      "Requirement already satisfied: send2trash>=1.8.2 in /home/dant/.pyenv/versions/3.12.2/lib/python3.12/site-packages (from jupyter-server<3,>=2.4.0->notebook>=4.4.1->widgetsnbextension~=3.6.6->ipywidgets<8->fastbook) (1.8.2)\r\n",
      "Requirement already satisfied: terminado>=0.8.3 in /home/dant/.pyenv/versions/3.12.2/lib/python3.12/site-packages (from jupyter-server<3,>=2.4.0->notebook>=4.4.1->widgetsnbextension~=3.6.6->ipywidgets<8->fastbook) (0.18.1)\r\n",
      "Requirement already satisfied: websocket-client in /home/dant/.pyenv/versions/3.12.2/lib/python3.12/site-packages (from jupyter-server<3,>=2.4.0->notebook>=4.4.1->widgetsnbextension~=3.6.6->ipywidgets<8->fastbook) (1.7.0)\r\n",
      "Requirement already satisfied: async-lru>=1.0.0 in /home/dant/.pyenv/versions/3.12.2/lib/python3.12/site-packages (from jupyterlab<4.2,>=4.1.1->notebook>=4.4.1->widgetsnbextension~=3.6.6->ipywidgets<8->fastbook) (2.0.4)\r\n",
      "Requirement already satisfied: httpx>=0.25.0 in /home/dant/.pyenv/versions/3.12.2/lib/python3.12/site-packages (from jupyterlab<4.2,>=4.1.1->notebook>=4.4.1->widgetsnbextension~=3.6.6->ipywidgets<8->fastbook) (0.27.0)\r\n",
      "Requirement already satisfied: ipykernel in /home/dant/.pyenv/versions/3.12.2/lib/python3.12/site-packages (from jupyterlab<4.2,>=4.1.1->notebook>=4.4.1->widgetsnbextension~=3.6.6->ipywidgets<8->fastbook) (6.29.3)\r\n",
      "Requirement already satisfied: jupyter-lsp>=2.0.0 in /home/dant/.pyenv/versions/3.12.2/lib/python3.12/site-packages (from jupyterlab<4.2,>=4.1.1->notebook>=4.4.1->widgetsnbextension~=3.6.6->ipywidgets<8->fastbook) (2.2.4)\r\n",
      "Requirement already satisfied: babel>=2.10 in /home/dant/.pyenv/versions/3.12.2/lib/python3.12/site-packages (from jupyterlab-server<3,>=2.22.1->notebook>=4.4.1->widgetsnbextension~=3.6.6->ipywidgets<8->fastbook) (2.14.0)\r\n",
      "Requirement already satisfied: json5>=0.9.0 in /home/dant/.pyenv/versions/3.12.2/lib/python3.12/site-packages (from jupyterlab-server<3,>=2.22.1->notebook>=4.4.1->widgetsnbextension~=3.6.6->ipywidgets<8->fastbook) (0.9.24)\r\n",
      "Requirement already satisfied: jsonschema>=4.18.0 in /home/dant/.pyenv/versions/3.12.2/lib/python3.12/site-packages (from jupyterlab-server<3,>=2.22.1->notebook>=4.4.1->widgetsnbextension~=3.6.6->ipywidgets<8->fastbook) (4.21.1)\r\n",
      "Requirement already satisfied: sniffio>=1.1 in /home/dant/.pyenv/versions/3.12.2/lib/python3.12/site-packages (from anyio>=3.1.0->jupyter-server<3,>=2.4.0->notebook>=4.4.1->widgetsnbextension~=3.6.6->ipywidgets<8->fastbook) (1.3.1)\r\n",
      "Requirement already satisfied: httpcore==1.* in /home/dant/.pyenv/versions/3.12.2/lib/python3.12/site-packages (from httpx>=0.25.0->jupyterlab<4.2,>=4.1.1->notebook>=4.4.1->widgetsnbextension~=3.6.6->ipywidgets<8->fastbook) (1.0.4)\r\n",
      "Requirement already satisfied: h11<0.15,>=0.13 in /home/dant/.pyenv/versions/3.12.2/lib/python3.12/site-packages (from httpcore==1.*->httpx>=0.25.0->jupyterlab<4.2,>=4.1.1->notebook>=4.4.1->widgetsnbextension~=3.6.6->ipywidgets<8->fastbook) (0.14.0)\r\n",
      "Requirement already satisfied: jsonschema-specifications>=2023.03.6 in /home/dant/.pyenv/versions/3.12.2/lib/python3.12/site-packages (from jsonschema>=4.18.0->jupyterlab-server<3,>=2.22.1->notebook>=4.4.1->widgetsnbextension~=3.6.6->ipywidgets<8->fastbook) (2023.12.1)\r\n",
      "Requirement already satisfied: referencing>=0.28.4 in /home/dant/.pyenv/versions/3.12.2/lib/python3.12/site-packages (from jsonschema>=4.18.0->jupyterlab-server<3,>=2.22.1->notebook>=4.4.1->widgetsnbextension~=3.6.6->ipywidgets<8->fastbook) (0.34.0)\r\n",
      "Requirement already satisfied: rpds-py>=0.7.1 in /home/dant/.pyenv/versions/3.12.2/lib/python3.12/site-packages (from jsonschema>=4.18.0->jupyterlab-server<3,>=2.22.1->notebook>=4.4.1->widgetsnbextension~=3.6.6->ipywidgets<8->fastbook) (0.18.0)\r\n",
      "Requirement already satisfied: platformdirs>=2.5 in /home/dant/.pyenv/versions/3.12.2/lib/python3.12/site-packages (from jupyter-core!=5.0.*,>=4.12->jupyter-server<3,>=2.4.0->notebook>=4.4.1->widgetsnbextension~=3.6.6->ipywidgets<8->fastbook) (4.2.0)\r\n",
      "Requirement already satisfied: python-json-logger>=2.0.4 in /home/dant/.pyenv/versions/3.12.2/lib/python3.12/site-packages (from jupyter-events>=0.9.0->jupyter-server<3,>=2.4.0->notebook>=4.4.1->widgetsnbextension~=3.6.6->ipywidgets<8->fastbook) (2.0.7)\r\n",
      "Requirement already satisfied: rfc3339-validator in /home/dant/.pyenv/versions/3.12.2/lib/python3.12/site-packages (from jupyter-events>=0.9.0->jupyter-server<3,>=2.4.0->notebook>=4.4.1->widgetsnbextension~=3.6.6->ipywidgets<8->fastbook) (0.1.4)\r\n",
      "Requirement already satisfied: rfc3986-validator>=0.1.1 in /home/dant/.pyenv/versions/3.12.2/lib/python3.12/site-packages (from jupyter-events>=0.9.0->jupyter-server<3,>=2.4.0->notebook>=4.4.1->widgetsnbextension~=3.6.6->ipywidgets<8->fastbook) (0.1.1)\r\n",
      "Requirement already satisfied: beautifulsoup4 in /home/dant/.pyenv/versions/3.12.2/lib/python3.12/site-packages (from nbconvert>=6.4.4->jupyter-server<3,>=2.4.0->notebook>=4.4.1->widgetsnbextension~=3.6.6->ipywidgets<8->fastbook) (4.12.3)\r\n",
      "Requirement already satisfied: bleach!=5.0.0 in /home/dant/.pyenv/versions/3.12.2/lib/python3.12/site-packages (from nbconvert>=6.4.4->jupyter-server<3,>=2.4.0->notebook>=4.4.1->widgetsnbextension~=3.6.6->ipywidgets<8->fastbook) (6.1.0)\r\n",
      "Requirement already satisfied: defusedxml in /home/dant/.pyenv/versions/3.12.2/lib/python3.12/site-packages (from nbconvert>=6.4.4->jupyter-server<3,>=2.4.0->notebook>=4.4.1->widgetsnbextension~=3.6.6->ipywidgets<8->fastbook) (0.7.1)\r\n",
      "Requirement already satisfied: jupyterlab-pygments in /home/dant/.pyenv/versions/3.12.2/lib/python3.12/site-packages (from nbconvert>=6.4.4->jupyter-server<3,>=2.4.0->notebook>=4.4.1->widgetsnbextension~=3.6.6->ipywidgets<8->fastbook) (0.3.0)\r\n",
      "Requirement already satisfied: mistune<4,>=2.0.3 in /home/dant/.pyenv/versions/3.12.2/lib/python3.12/site-packages (from nbconvert>=6.4.4->jupyter-server<3,>=2.4.0->notebook>=4.4.1->widgetsnbextension~=3.6.6->ipywidgets<8->fastbook) (3.0.2)\r\n",
      "Requirement already satisfied: nbclient>=0.5.0 in /home/dant/.pyenv/versions/3.12.2/lib/python3.12/site-packages (from nbconvert>=6.4.4->jupyter-server<3,>=2.4.0->notebook>=4.4.1->widgetsnbextension~=3.6.6->ipywidgets<8->fastbook) (0.10.0)\r\n",
      "Requirement already satisfied: pandocfilters>=1.4.1 in /home/dant/.pyenv/versions/3.12.2/lib/python3.12/site-packages (from nbconvert>=6.4.4->jupyter-server<3,>=2.4.0->notebook>=4.4.1->widgetsnbextension~=3.6.6->ipywidgets<8->fastbook) (1.5.1)\r\n",
      "Requirement already satisfied: tinycss2 in /home/dant/.pyenv/versions/3.12.2/lib/python3.12/site-packages (from nbconvert>=6.4.4->jupyter-server<3,>=2.4.0->notebook>=4.4.1->widgetsnbextension~=3.6.6->ipywidgets<8->fastbook) (1.2.1)\r\n",
      "Requirement already satisfied: fastjsonschema in /home/dant/.pyenv/versions/3.12.2/lib/python3.12/site-packages (from nbformat>=5.3.0->jupyter-server<3,>=2.4.0->notebook>=4.4.1->widgetsnbextension~=3.6.6->ipywidgets<8->fastbook) (2.19.1)\r\n",
      "Requirement already satisfied: argon2-cffi-bindings in /home/dant/.pyenv/versions/3.12.2/lib/python3.12/site-packages (from argon2-cffi->jupyter-server<3,>=2.4.0->notebook>=4.4.1->widgetsnbextension~=3.6.6->ipywidgets<8->fastbook) (21.2.0)\r\n",
      "Requirement already satisfied: debugpy>=1.6.5 in /home/dant/.pyenv/versions/3.12.2/lib/python3.12/site-packages (from ipykernel->jupyterlab<4.2,>=4.1.1->notebook>=4.4.1->widgetsnbextension~=3.6.6->ipywidgets<8->fastbook) (1.8.1)\r\n",
      "Requirement already satisfied: nest-asyncio in /home/dant/.pyenv/versions/3.12.2/lib/python3.12/site-packages (from ipykernel->jupyterlab<4.2,>=4.1.1->notebook>=4.4.1->widgetsnbextension~=3.6.6->ipywidgets<8->fastbook) (1.6.0)\r\n",
      "Requirement already satisfied: psutil in /home/dant/.pyenv/versions/3.12.2/lib/python3.12/site-packages (from ipykernel->jupyterlab<4.2,>=4.1.1->notebook>=4.4.1->widgetsnbextension~=3.6.6->ipywidgets<8->fastbook) (5.9.8)\r\n",
      "Requirement already satisfied: webencodings in /home/dant/.pyenv/versions/3.12.2/lib/python3.12/site-packages (from bleach!=5.0.0->nbconvert>=6.4.4->jupyter-server<3,>=2.4.0->notebook>=4.4.1->widgetsnbextension~=3.6.6->ipywidgets<8->fastbook) (0.5.1)\r\n",
      "Requirement already satisfied: fqdn in /home/dant/.pyenv/versions/3.12.2/lib/python3.12/site-packages (from jsonschema[format-nongpl]>=4.18.0->jupyter-events>=0.9.0->jupyter-server<3,>=2.4.0->notebook>=4.4.1->widgetsnbextension~=3.6.6->ipywidgets<8->fastbook) (1.5.1)\r\n",
      "Requirement already satisfied: isoduration in /home/dant/.pyenv/versions/3.12.2/lib/python3.12/site-packages (from jsonschema[format-nongpl]>=4.18.0->jupyter-events>=0.9.0->jupyter-server<3,>=2.4.0->notebook>=4.4.1->widgetsnbextension~=3.6.6->ipywidgets<8->fastbook) (20.11.0)\r\n",
      "Requirement already satisfied: jsonpointer>1.13 in /home/dant/.pyenv/versions/3.12.2/lib/python3.12/site-packages (from jsonschema[format-nongpl]>=4.18.0->jupyter-events>=0.9.0->jupyter-server<3,>=2.4.0->notebook>=4.4.1->widgetsnbextension~=3.6.6->ipywidgets<8->fastbook) (2.4)\r\n",
      "Requirement already satisfied: uri-template in /home/dant/.pyenv/versions/3.12.2/lib/python3.12/site-packages (from jsonschema[format-nongpl]>=4.18.0->jupyter-events>=0.9.0->jupyter-server<3,>=2.4.0->notebook>=4.4.1->widgetsnbextension~=3.6.6->ipywidgets<8->fastbook) (1.3.0)\r\n",
      "Requirement already satisfied: webcolors>=1.11 in /home/dant/.pyenv/versions/3.12.2/lib/python3.12/site-packages (from jsonschema[format-nongpl]>=4.18.0->jupyter-events>=0.9.0->jupyter-server<3,>=2.4.0->notebook>=4.4.1->widgetsnbextension~=3.6.6->ipywidgets<8->fastbook) (1.13)\r\n",
      "Requirement already satisfied: cffi>=1.0.1 in /home/dant/.pyenv/versions/3.12.2/lib/python3.12/site-packages (from argon2-cffi-bindings->argon2-cffi->jupyter-server<3,>=2.4.0->notebook>=4.4.1->widgetsnbextension~=3.6.6->ipywidgets<8->fastbook) (1.16.0)\r\n",
      "Requirement already satisfied: soupsieve>1.2 in /home/dant/.pyenv/versions/3.12.2/lib/python3.12/site-packages (from beautifulsoup4->nbconvert>=6.4.4->jupyter-server<3,>=2.4.0->notebook>=4.4.1->widgetsnbextension~=3.6.6->ipywidgets<8->fastbook) (2.5)\r\n",
      "Requirement already satisfied: pycparser in /home/dant/.pyenv/versions/3.12.2/lib/python3.12/site-packages (from cffi>=1.0.1->argon2-cffi-bindings->argon2-cffi->jupyter-server<3,>=2.4.0->notebook>=4.4.1->widgetsnbextension~=3.6.6->ipywidgets<8->fastbook) (2.21)\r\n",
      "Requirement already satisfied: arrow>=0.15.0 in /home/dant/.pyenv/versions/3.12.2/lib/python3.12/site-packages (from isoduration->jsonschema[format-nongpl]>=4.18.0->jupyter-events>=0.9.0->jupyter-server<3,>=2.4.0->notebook>=4.4.1->widgetsnbextension~=3.6.6->ipywidgets<8->fastbook) (1.3.0)\r\n",
      "Requirement already satisfied: types-python-dateutil>=2.8.10 in /home/dant/.pyenv/versions/3.12.2/lib/python3.12/site-packages (from arrow>=0.15.0->isoduration->jsonschema[format-nongpl]>=4.18.0->jupyter-events>=0.9.0->jupyter-server<3,>=2.4.0->notebook>=4.4.1->widgetsnbextension~=3.6.6->ipywidgets<8->fastbook) (2.9.0.20240316)\r\n"
     ]
    }
   ],
   "source": [
    "!pip install fastbook fastai\n",
    "import fastbook\n",
    "fastbook.setup_book()\n",
    "from fastbook import *"
   ],
   "metadata": {
    "collapsed": false,
    "ExecuteTime": {
     "end_time": "2024-03-20T13:10:34.915466Z",
     "start_time": "2024-03-20T13:10:26.163950Z"
    }
   },
   "id": "f6bd95fb85a3ba6a",
   "execution_count": 3
  },
  {
   "cell_type": "code",
   "outputs": [],
   "source": [
    "from fastai.vision.all import *\n",
    "\n",
    "path: Path = untar_data(URLs.PETS)/'images'\n",
    "\n",
    "def is_cat(x): return x[0].isupper()\n",
    "\n",
    "dls: DataLoaders = ImageDataLoaders.from_name_func(\n",
    "    path, get_image_files(path), valid_pct=0.2, seed=42,\n",
    "    label_func=is_cat, item_tfms=Resize(224))\n"
   ],
   "metadata": {
    "collapsed": false,
    "ExecuteTime": {
     "end_time": "2024-03-20T13:10:48.065528Z",
     "start_time": "2024-03-20T13:10:47.086633Z"
    }
   },
   "id": "25e5600b39f6d7c8",
   "execution_count": 4
  },
  {
   "cell_type": "code",
   "outputs": [],
   "source": [
    "from fastai.distributed import *\n",
    "\n",
    "learn: object = vision_learner(dls, resnet34, metrics=error_rate).to_parallel()\n",
    "\n",
    "# Wrap the model in DataParallel\n",
    "# learn.model = nn.DataParallel(learn.model)\n"
   ],
   "metadata": {
    "collapsed": false,
    "ExecuteTime": {
     "end_time": "2024-03-20T13:10:50.960979Z",
     "start_time": "2024-03-20T13:10:50.264446Z"
    }
   },
   "id": "3a8e7225dc795a23",
   "execution_count": 5
  },
  {
   "cell_type": "code",
   "outputs": [
    {
     "data": {
      "text/plain": "<IPython.core.display.HTML object>",
      "text/html": "\n<style>\n    /* Turns off some styling */\n    progress {\n        /* gets rid of default border in Firefox and Opera. */\n        border: none;\n        /* Needs to be in here for Safari polyfill so background images work as expected. */\n        background-size: auto;\n    }\n    progress:not([value]), progress:not([value])::-webkit-progress-bar {\n        background: repeating-linear-gradient(45deg, #7e7e7e, #7e7e7e 10px, #5c5c5c 10px, #5c5c5c 20px);\n    }\n    .progress-bar-interrupted, .progress-bar-interrupted::-webkit-progress-bar {\n        background: #F44336;\n    }\n</style>\n"
     },
     "metadata": {},
     "output_type": "display_data"
    },
    {
     "data": {
      "text/plain": "<IPython.core.display.HTML object>",
      "text/html": "<table border=\"1\" class=\"dataframe\">\n  <thead>\n    <tr style=\"text-align: left;\">\n      <th>epoch</th>\n      <th>train_loss</th>\n      <th>valid_loss</th>\n      <th>error_rate</th>\n      <th>time</th>\n    </tr>\n  </thead>\n  <tbody>\n    <tr>\n      <td>0</td>\n      <td>0.192370</td>\n      <td>0.027167</td>\n      <td>0.006089</td>\n      <td>00:15</td>\n    </tr>\n  </tbody>\n</table>"
     },
     "metadata": {},
     "output_type": "display_data"
    },
    {
     "data": {
      "text/plain": "<IPython.core.display.HTML object>",
      "text/html": "\n<style>\n    /* Turns off some styling */\n    progress {\n        /* gets rid of default border in Firefox and Opera. */\n        border: none;\n        /* Needs to be in here for Safari polyfill so background images work as expected. */\n        background-size: auto;\n    }\n    progress:not([value]), progress:not([value])::-webkit-progress-bar {\n        background: repeating-linear-gradient(45deg, #7e7e7e, #7e7e7e 10px, #5c5c5c 10px, #5c5c5c 20px);\n    }\n    .progress-bar-interrupted, .progress-bar-interrupted::-webkit-progress-bar {\n        background: #F44336;\n    }\n</style>\n"
     },
     "metadata": {},
     "output_type": "display_data"
    },
    {
     "data": {
      "text/plain": "<IPython.core.display.HTML object>",
      "text/html": "<table border=\"1\" class=\"dataframe\">\n  <thead>\n    <tr style=\"text-align: left;\">\n      <th>epoch</th>\n      <th>train_loss</th>\n      <th>valid_loss</th>\n      <th>error_rate</th>\n      <th>time</th>\n    </tr>\n  </thead>\n  <tbody>\n    <tr>\n      <td>0</td>\n      <td>0.084943</td>\n      <td>0.013373</td>\n      <td>0.005413</td>\n      <td>00:16</td>\n    </tr>\n  </tbody>\n</table>"
     },
     "metadata": {},
     "output_type": "display_data"
    }
   ],
   "source": [
    "learn.fine_tune(1)\n"
   ],
   "metadata": {
    "collapsed": false,
    "ExecuteTime": {
     "end_time": "2024-03-20T13:11:24.440125Z",
     "start_time": "2024-03-20T13:10:52.008701Z"
    }
   },
   "id": "fc4e1a6c80e72ea5",
   "execution_count": 6
  },
  {
   "cell_type": "code",
   "outputs": [
    {
     "data": {
      "text/plain": "2"
     },
     "execution_count": 7,
     "metadata": {},
     "output_type": "execute_result"
    }
   ],
   "source": [
    " torch.cuda.device_count()"
   ],
   "metadata": {
    "collapsed": false,
    "ExecuteTime": {
     "end_time": "2024-03-20T13:13:56.184350Z",
     "start_time": "2024-03-20T13:13:56.177480Z"
    }
   },
   "id": "e59d80a0d1bc2b1e",
   "execution_count": 7
  },
  {
   "cell_type": "code",
   "outputs": [
    {
     "data": {
      "text/plain": "<IPython.core.display.HTML object>",
      "text/html": "\n<style>\n    /* Turns off some styling */\n    progress {\n        /* gets rid of default border in Firefox and Opera. */\n        border: none;\n        /* Needs to be in here for Safari polyfill so background images work as expected. */\n        background-size: auto;\n    }\n    progress:not([value]), progress:not([value])::-webkit-progress-bar {\n        background: repeating-linear-gradient(45deg, #7e7e7e, #7e7e7e 10px, #5c5c5c 10px, #5c5c5c 20px);\n    }\n    .progress-bar-interrupted, .progress-bar-interrupted::-webkit-progress-bar {\n        background: #F44336;\n    }\n</style>\n"
     },
     "metadata": {},
     "output_type": "display_data"
    },
    {
     "data": {
      "text/plain": "<IPython.core.display.HTML object>",
      "text/html": "<table border=\"1\" class=\"dataframe\">\n  <thead>\n    <tr style=\"text-align: left;\">\n      <th>epoch</th>\n      <th>train_loss</th>\n      <th>valid_loss</th>\n      <th>accuracy</th>\n      <th>time</th>\n    </tr>\n  </thead>\n  <tbody>\n    <tr>\n      <td>0</td>\n      <td>0.467570</td>\n      <td>0.390341</td>\n      <td>0.825720</td>\n      <td>00:52</td>\n    </tr>\n  </tbody>\n</table>"
     },
     "metadata": {},
     "output_type": "display_data"
    },
    {
     "data": {
      "text/plain": "<IPython.core.display.HTML object>",
      "text/html": "\n<style>\n    /* Turns off some styling */\n    progress {\n        /* gets rid of default border in Firefox and Opera. */\n        border: none;\n        /* Needs to be in here for Safari polyfill so background images work as expected. */\n        background-size: auto;\n    }\n    progress:not([value]), progress:not([value])::-webkit-progress-bar {\n        background: repeating-linear-gradient(45deg, #7e7e7e, #7e7e7e 10px, #5c5c5c 10px, #5c5c5c 20px);\n    }\n    .progress-bar-interrupted, .progress-bar-interrupted::-webkit-progress-bar {\n        background: #F44336;\n    }\n</style>\n"
     },
     "metadata": {},
     "output_type": "display_data"
    },
    {
     "data": {
      "text/plain": "<IPython.core.display.HTML object>",
      "text/html": "<table border=\"1\" class=\"dataframe\">\n  <thead>\n    <tr style=\"text-align: left;\">\n      <th>epoch</th>\n      <th>train_loss</th>\n      <th>valid_loss</th>\n      <th>accuracy</th>\n      <th>time</th>\n    </tr>\n  </thead>\n  <tbody>\n    <tr>\n      <td>0</td>\n      <td>0.299981</td>\n      <td>0.283224</td>\n      <td>0.883040</td>\n      <td>01:43</td>\n    </tr>\n    <tr>\n      <td>1</td>\n      <td>0.237995</td>\n      <td>0.263548</td>\n      <td>0.896400</td>\n      <td>01:43</td>\n    </tr>\n    <tr>\n      <td>2</td>\n      <td>0.183935</td>\n      <td>0.185383</td>\n      <td>0.928160</td>\n      <td>01:43</td>\n    </tr>\n    <tr>\n      <td>3</td>\n      <td>0.168688</td>\n      <td>0.192527</td>\n      <td>0.929080</td>\n      <td>01:43</td>\n    </tr>\n  </tbody>\n</table>"
     },
     "metadata": {},
     "output_type": "display_data"
    }
   ],
   "source": [
    "from fastai.text.all import *\n",
    "\n",
    "dls = TextDataLoaders.from_folder(untar_data(URLs.IMDB), valid='test')\n",
    "learn = text_classifier_learner(dls, AWD_LSTM, drop_mult=0.5, metrics=accuracy)\n",
    "#learn = text_classifier_learner(dls, AWD_LSTM, drop_mult=0.5, metrics=accuracy).to_parallel()\n",
    "# learn.model = nn.DataParallel(learn.model)\n",
    "\n",
    "learn.fine_tune(4, 1e-2)"
   ],
   "metadata": {
    "collapsed": false,
    "ExecuteTime": {
     "end_time": "2024-03-20T13:34:39.412630Z",
     "start_time": "2024-03-20T13:26:40.350948Z"
    }
   },
   "id": "f91b76a02cf990d8",
   "execution_count": 9
  },
  {
   "cell_type": "code",
   "outputs": [
    {
     "data": {
      "text/plain": "<IPython.core.display.HTML object>",
      "text/html": "\n<style>\n    /* Turns off some styling */\n    progress {\n        /* gets rid of default border in Firefox and Opera. */\n        border: none;\n        /* Needs to be in here for Safari polyfill so background images work as expected. */\n        background-size: auto;\n    }\n    progress:not([value]), progress:not([value])::-webkit-progress-bar {\n        background: repeating-linear-gradient(45deg, #7e7e7e, #7e7e7e 10px, #5c5c5c 10px, #5c5c5c 20px);\n    }\n    .progress-bar-interrupted, .progress-bar-interrupted::-webkit-progress-bar {\n        background: #F44336;\n    }\n</style>\n"
     },
     "metadata": {},
     "output_type": "display_data"
    },
    {
     "data": {
      "text/plain": "<IPython.core.display.HTML object>",
      "text/html": ""
     },
     "metadata": {},
     "output_type": "display_data"
    },
    {
     "data": {
      "text/plain": "('pos', tensor(1), tensor([1.8790e-04, 9.9981e-01]))"
     },
     "execution_count": 14,
     "metadata": {},
     "output_type": "execute_result"
    }
   ],
   "source": [
    "learn.predict(\"I really liked that movie!\")"
   ],
   "metadata": {
    "collapsed": false,
    "ExecuteTime": {
     "end_time": "2024-03-20T16:25:08.184247Z",
     "start_time": "2024-03-20T16:25:08.135043Z"
    }
   },
   "id": "15d69d36d4bfcec7",
   "execution_count": 14
  },
  {
   "cell_type": "code",
   "outputs": [
    {
     "data": {
      "text/plain": "<IPython.core.display.HTML object>",
      "text/html": "<hr/>\n<h3>Learner.predict</h3>\n<blockquote><pre><code>Learner.predict(item, rm_type_tfms=None, with_input=False)</code></pre></blockquote><p>Prediction on `item`, fully decoded, loss function decoded and probabilities</p>\n<p><a href=\"https://docs.fast.ai/learner.html#learner.predict\" target=\"_blank\" rel=\"noreferrer noopener\">Show in docs</a></p>"
     },
     "metadata": {},
     "output_type": "display_data"
    }
   ],
   "source": [
    "doc(learn.predict)"
   ],
   "metadata": {
    "collapsed": false,
    "ExecuteTime": {
     "end_time": "2024-03-20T16:27:26.837957Z",
     "start_time": "2024-03-20T16:27:26.600314Z"
    }
   },
   "id": "e1366705fe02cfe6",
   "execution_count": 17
  },
  {
   "cell_type": "code",
   "outputs": [
    {
     "name": "stdout",
     "output_type": "stream",
     "text": [
      "Collecting nbdev\r\n",
      "  Downloading nbdev-2.3.13-py3-none-any.whl.metadata (10 kB)\r\n",
      "Requirement already satisfied: ipywidgets<=8.0.4 in /home/dant/.pyenv/versions/3.12.2/lib/python3.12/site-packages (from nbdev) (7.8.1)\r\n",
      "Requirement already satisfied: fastcore>=1.5.27 in /home/dant/.pyenv/versions/3.12.2/lib/python3.12/site-packages (from nbdev) (1.5.29)\r\n",
      "Collecting execnb>=0.1.4 (from nbdev)\r\n",
      "  Downloading execnb-0.1.5-py3-none-any.whl.metadata (3.3 kB)\r\n",
      "Collecting astunparse (from nbdev)\r\n",
      "  Downloading astunparse-1.6.3-py2.py3-none-any.whl.metadata (4.4 kB)\r\n",
      "Collecting ghapi>=1.0.3 (from nbdev)\r\n",
      "  Downloading ghapi-1.0.4-py3-none-any.whl.metadata (13 kB)\r\n",
      "Collecting watchdog (from nbdev)\r\n",
      "  Downloading watchdog-4.0.0-py3-none-manylinux2014_x86_64.whl.metadata (37 kB)\r\n",
      "Requirement already satisfied: asttokens in /home/dant/.pyenv/versions/3.12.2/lib/python3.12/site-packages (from nbdev) (2.4.1)\r\n",
      "Requirement already satisfied: PyYAML in /home/dant/.pyenv/versions/3.12.2/lib/python3.12/site-packages (from nbdev) (6.0.1)\r\n",
      "Requirement already satisfied: ipython in /home/dant/.pyenv/versions/3.12.2/lib/python3.12/site-packages (from execnb>=0.1.4->nbdev) (8.22.2)\r\n",
      "Requirement already satisfied: pip in /home/dant/.pyenv/versions/3.12.2/lib/python3.12/site-packages (from fastcore>=1.5.27->nbdev) (24.0)\r\n",
      "Requirement already satisfied: packaging in /home/dant/.pyenv/versions/3.12.2/lib/python3.12/site-packages (from fastcore>=1.5.27->nbdev) (24.0)\r\n",
      "Requirement already satisfied: comm>=0.1.3 in /home/dant/.pyenv/versions/3.12.2/lib/python3.12/site-packages (from ipywidgets<=8.0.4->nbdev) (0.2.2)\r\n",
      "Requirement already satisfied: ipython-genutils~=0.2.0 in /home/dant/.pyenv/versions/3.12.2/lib/python3.12/site-packages (from ipywidgets<=8.0.4->nbdev) (0.2.0)\r\n",
      "Requirement already satisfied: traitlets>=4.3.1 in /home/dant/.pyenv/versions/3.12.2/lib/python3.12/site-packages (from ipywidgets<=8.0.4->nbdev) (5.14.2)\r\n",
      "Requirement already satisfied: widgetsnbextension~=3.6.6 in /home/dant/.pyenv/versions/3.12.2/lib/python3.12/site-packages (from ipywidgets<=8.0.4->nbdev) (3.6.6)\r\n",
      "Requirement already satisfied: jupyterlab-widgets<3,>=1.0.0 in /home/dant/.pyenv/versions/3.12.2/lib/python3.12/site-packages (from ipywidgets<=8.0.4->nbdev) (1.1.7)\r\n",
      "Requirement already satisfied: six>=1.12.0 in /home/dant/.pyenv/versions/3.12.2/lib/python3.12/site-packages (from asttokens->nbdev) (1.16.0)\r\n",
      "Collecting wheel<1.0,>=0.23.0 (from astunparse->nbdev)\r\n",
      "  Using cached wheel-0.43.0-py3-none-any.whl.metadata (2.2 kB)\r\n",
      "Requirement already satisfied: decorator in /home/dant/.pyenv/versions/3.12.2/lib/python3.12/site-packages (from ipython->execnb>=0.1.4->nbdev) (5.1.1)\r\n",
      "Requirement already satisfied: jedi>=0.16 in /home/dant/.pyenv/versions/3.12.2/lib/python3.12/site-packages (from ipython->execnb>=0.1.4->nbdev) (0.19.1)\r\n",
      "Requirement already satisfied: matplotlib-inline in /home/dant/.pyenv/versions/3.12.2/lib/python3.12/site-packages (from ipython->execnb>=0.1.4->nbdev) (0.1.6)\r\n",
      "Requirement already satisfied: prompt-toolkit<3.1.0,>=3.0.41 in /home/dant/.pyenv/versions/3.12.2/lib/python3.12/site-packages (from ipython->execnb>=0.1.4->nbdev) (3.0.43)\r\n",
      "Requirement already satisfied: pygments>=2.4.0 in /home/dant/.pyenv/versions/3.12.2/lib/python3.12/site-packages (from ipython->execnb>=0.1.4->nbdev) (2.17.2)\r\n",
      "Requirement already satisfied: stack-data in /home/dant/.pyenv/versions/3.12.2/lib/python3.12/site-packages (from ipython->execnb>=0.1.4->nbdev) (0.6.3)\r\n",
      "Requirement already satisfied: pexpect>4.3 in /home/dant/.pyenv/versions/3.12.2/lib/python3.12/site-packages (from ipython->execnb>=0.1.4->nbdev) (4.9.0)\r\n",
      "Requirement already satisfied: notebook>=4.4.1 in /home/dant/.pyenv/versions/3.12.2/lib/python3.12/site-packages (from widgetsnbextension~=3.6.6->ipywidgets<=8.0.4->nbdev) (7.1.2)\r\n",
      "Requirement already satisfied: parso<0.9.0,>=0.8.3 in /home/dant/.pyenv/versions/3.12.2/lib/python3.12/site-packages (from jedi>=0.16->ipython->execnb>=0.1.4->nbdev) (0.8.3)\r\n",
      "Requirement already satisfied: jupyter-server<3,>=2.4.0 in /home/dant/.pyenv/versions/3.12.2/lib/python3.12/site-packages (from notebook>=4.4.1->widgetsnbextension~=3.6.6->ipywidgets<=8.0.4->nbdev) (2.13.0)\r\n",
      "Requirement already satisfied: jupyterlab-server<3,>=2.22.1 in /home/dant/.pyenv/versions/3.12.2/lib/python3.12/site-packages (from notebook>=4.4.1->widgetsnbextension~=3.6.6->ipywidgets<=8.0.4->nbdev) (2.25.4)\r\n",
      "Requirement already satisfied: jupyterlab<4.2,>=4.1.1 in /home/dant/.pyenv/versions/3.12.2/lib/python3.12/site-packages (from notebook>=4.4.1->widgetsnbextension~=3.6.6->ipywidgets<=8.0.4->nbdev) (4.1.5)\r\n",
      "Requirement already satisfied: notebook-shim<0.3,>=0.2 in /home/dant/.pyenv/versions/3.12.2/lib/python3.12/site-packages (from notebook>=4.4.1->widgetsnbextension~=3.6.6->ipywidgets<=8.0.4->nbdev) (0.2.4)\r\n",
      "Requirement already satisfied: tornado>=6.2.0 in /home/dant/.pyenv/versions/3.12.2/lib/python3.12/site-packages (from notebook>=4.4.1->widgetsnbextension~=3.6.6->ipywidgets<=8.0.4->nbdev) (6.4)\r\n",
      "Requirement already satisfied: ptyprocess>=0.5 in /home/dant/.pyenv/versions/3.12.2/lib/python3.12/site-packages (from pexpect>4.3->ipython->execnb>=0.1.4->nbdev) (0.7.0)\r\n",
      "Requirement already satisfied: wcwidth in /home/dant/.pyenv/versions/3.12.2/lib/python3.12/site-packages (from prompt-toolkit<3.1.0,>=3.0.41->ipython->execnb>=0.1.4->nbdev) (0.2.13)\r\n",
      "Requirement already satisfied: executing>=1.2.0 in /home/dant/.pyenv/versions/3.12.2/lib/python3.12/site-packages (from stack-data->ipython->execnb>=0.1.4->nbdev) (2.0.1)\r\n",
      "Requirement already satisfied: pure-eval in /home/dant/.pyenv/versions/3.12.2/lib/python3.12/site-packages (from stack-data->ipython->execnb>=0.1.4->nbdev) (0.2.2)\r\n",
      "Requirement already satisfied: anyio>=3.1.0 in /home/dant/.pyenv/versions/3.12.2/lib/python3.12/site-packages (from jupyter-server<3,>=2.4.0->notebook>=4.4.1->widgetsnbextension~=3.6.6->ipywidgets<=8.0.4->nbdev) (4.3.0)\r\n",
      "Requirement already satisfied: argon2-cffi in /home/dant/.pyenv/versions/3.12.2/lib/python3.12/site-packages (from jupyter-server<3,>=2.4.0->notebook>=4.4.1->widgetsnbextension~=3.6.6->ipywidgets<=8.0.4->nbdev) (23.1.0)\r\n",
      "Requirement already satisfied: jinja2 in /home/dant/.pyenv/versions/3.12.2/lib/python3.12/site-packages (from jupyter-server<3,>=2.4.0->notebook>=4.4.1->widgetsnbextension~=3.6.6->ipywidgets<=8.0.4->nbdev) (3.1.3)\r\n",
      "Requirement already satisfied: jupyter-client>=7.4.4 in /home/dant/.pyenv/versions/3.12.2/lib/python3.12/site-packages (from jupyter-server<3,>=2.4.0->notebook>=4.4.1->widgetsnbextension~=3.6.6->ipywidgets<=8.0.4->nbdev) (8.6.1)\r\n",
      "Requirement already satisfied: jupyter-core!=5.0.*,>=4.12 in /home/dant/.pyenv/versions/3.12.2/lib/python3.12/site-packages (from jupyter-server<3,>=2.4.0->notebook>=4.4.1->widgetsnbextension~=3.6.6->ipywidgets<=8.0.4->nbdev) (5.7.2)\r\n",
      "Requirement already satisfied: jupyter-events>=0.9.0 in /home/dant/.pyenv/versions/3.12.2/lib/python3.12/site-packages (from jupyter-server<3,>=2.4.0->notebook>=4.4.1->widgetsnbextension~=3.6.6->ipywidgets<=8.0.4->nbdev) (0.10.0)\r\n",
      "Requirement already satisfied: jupyter-server-terminals in /home/dant/.pyenv/versions/3.12.2/lib/python3.12/site-packages (from jupyter-server<3,>=2.4.0->notebook>=4.4.1->widgetsnbextension~=3.6.6->ipywidgets<=8.0.4->nbdev) (0.5.3)\r\n",
      "Requirement already satisfied: nbconvert>=6.4.4 in /home/dant/.pyenv/versions/3.12.2/lib/python3.12/site-packages (from jupyter-server<3,>=2.4.0->notebook>=4.4.1->widgetsnbextension~=3.6.6->ipywidgets<=8.0.4->nbdev) (7.16.2)\r\n",
      "Requirement already satisfied: nbformat>=5.3.0 in /home/dant/.pyenv/versions/3.12.2/lib/python3.12/site-packages (from jupyter-server<3,>=2.4.0->notebook>=4.4.1->widgetsnbextension~=3.6.6->ipywidgets<=8.0.4->nbdev) (5.10.3)\r\n",
      "Requirement already satisfied: overrides in /home/dant/.pyenv/versions/3.12.2/lib/python3.12/site-packages (from jupyter-server<3,>=2.4.0->notebook>=4.4.1->widgetsnbextension~=3.6.6->ipywidgets<=8.0.4->nbdev) (7.7.0)\r\n",
      "Requirement already satisfied: prometheus-client in /home/dant/.pyenv/versions/3.12.2/lib/python3.12/site-packages (from jupyter-server<3,>=2.4.0->notebook>=4.4.1->widgetsnbextension~=3.6.6->ipywidgets<=8.0.4->nbdev) (0.20.0)\r\n",
      "Requirement already satisfied: pyzmq>=24 in /home/dant/.pyenv/versions/3.12.2/lib/python3.12/site-packages (from jupyter-server<3,>=2.4.0->notebook>=4.4.1->widgetsnbextension~=3.6.6->ipywidgets<=8.0.4->nbdev) (25.1.2)\r\n",
      "Requirement already satisfied: send2trash>=1.8.2 in /home/dant/.pyenv/versions/3.12.2/lib/python3.12/site-packages (from jupyter-server<3,>=2.4.0->notebook>=4.4.1->widgetsnbextension~=3.6.6->ipywidgets<=8.0.4->nbdev) (1.8.2)\r\n",
      "Requirement already satisfied: terminado>=0.8.3 in /home/dant/.pyenv/versions/3.12.2/lib/python3.12/site-packages (from jupyter-server<3,>=2.4.0->notebook>=4.4.1->widgetsnbextension~=3.6.6->ipywidgets<=8.0.4->nbdev) (0.18.1)\r\n",
      "Requirement already satisfied: websocket-client in /home/dant/.pyenv/versions/3.12.2/lib/python3.12/site-packages (from jupyter-server<3,>=2.4.0->notebook>=4.4.1->widgetsnbextension~=3.6.6->ipywidgets<=8.0.4->nbdev) (1.7.0)\r\n",
      "Requirement already satisfied: async-lru>=1.0.0 in /home/dant/.pyenv/versions/3.12.2/lib/python3.12/site-packages (from jupyterlab<4.2,>=4.1.1->notebook>=4.4.1->widgetsnbextension~=3.6.6->ipywidgets<=8.0.4->nbdev) (2.0.4)\r\n",
      "Requirement already satisfied: httpx>=0.25.0 in /home/dant/.pyenv/versions/3.12.2/lib/python3.12/site-packages (from jupyterlab<4.2,>=4.1.1->notebook>=4.4.1->widgetsnbextension~=3.6.6->ipywidgets<=8.0.4->nbdev) (0.27.0)\r\n",
      "Requirement already satisfied: ipykernel in /home/dant/.pyenv/versions/3.12.2/lib/python3.12/site-packages (from jupyterlab<4.2,>=4.1.1->notebook>=4.4.1->widgetsnbextension~=3.6.6->ipywidgets<=8.0.4->nbdev) (6.29.3)\r\n",
      "Requirement already satisfied: jupyter-lsp>=2.0.0 in /home/dant/.pyenv/versions/3.12.2/lib/python3.12/site-packages (from jupyterlab<4.2,>=4.1.1->notebook>=4.4.1->widgetsnbextension~=3.6.6->ipywidgets<=8.0.4->nbdev) (2.2.4)\r\n",
      "Requirement already satisfied: babel>=2.10 in /home/dant/.pyenv/versions/3.12.2/lib/python3.12/site-packages (from jupyterlab-server<3,>=2.22.1->notebook>=4.4.1->widgetsnbextension~=3.6.6->ipywidgets<=8.0.4->nbdev) (2.14.0)\r\n",
      "Requirement already satisfied: json5>=0.9.0 in /home/dant/.pyenv/versions/3.12.2/lib/python3.12/site-packages (from jupyterlab-server<3,>=2.22.1->notebook>=4.4.1->widgetsnbextension~=3.6.6->ipywidgets<=8.0.4->nbdev) (0.9.24)\r\n",
      "Requirement already satisfied: jsonschema>=4.18.0 in /home/dant/.pyenv/versions/3.12.2/lib/python3.12/site-packages (from jupyterlab-server<3,>=2.22.1->notebook>=4.4.1->widgetsnbextension~=3.6.6->ipywidgets<=8.0.4->nbdev) (4.21.1)\r\n",
      "Requirement already satisfied: requests>=2.31 in /home/dant/.pyenv/versions/3.12.2/lib/python3.12/site-packages (from jupyterlab-server<3,>=2.22.1->notebook>=4.4.1->widgetsnbextension~=3.6.6->ipywidgets<=8.0.4->nbdev) (2.31.0)\r\n",
      "Requirement already satisfied: idna>=2.8 in /home/dant/.pyenv/versions/3.12.2/lib/python3.12/site-packages (from anyio>=3.1.0->jupyter-server<3,>=2.4.0->notebook>=4.4.1->widgetsnbextension~=3.6.6->ipywidgets<=8.0.4->nbdev) (3.6)\r\n",
      "Requirement already satisfied: sniffio>=1.1 in /home/dant/.pyenv/versions/3.12.2/lib/python3.12/site-packages (from anyio>=3.1.0->jupyter-server<3,>=2.4.0->notebook>=4.4.1->widgetsnbextension~=3.6.6->ipywidgets<=8.0.4->nbdev) (1.3.1)\r\n",
      "Requirement already satisfied: certifi in /home/dant/.pyenv/versions/3.12.2/lib/python3.12/site-packages (from httpx>=0.25.0->jupyterlab<4.2,>=4.1.1->notebook>=4.4.1->widgetsnbextension~=3.6.6->ipywidgets<=8.0.4->nbdev) (2024.2.2)\r\n",
      "Requirement already satisfied: httpcore==1.* in /home/dant/.pyenv/versions/3.12.2/lib/python3.12/site-packages (from httpx>=0.25.0->jupyterlab<4.2,>=4.1.1->notebook>=4.4.1->widgetsnbextension~=3.6.6->ipywidgets<=8.0.4->nbdev) (1.0.4)\r\n",
      "Requirement already satisfied: h11<0.15,>=0.13 in /home/dant/.pyenv/versions/3.12.2/lib/python3.12/site-packages (from httpcore==1.*->httpx>=0.25.0->jupyterlab<4.2,>=4.1.1->notebook>=4.4.1->widgetsnbextension~=3.6.6->ipywidgets<=8.0.4->nbdev) (0.14.0)\r\n",
      "Requirement already satisfied: MarkupSafe>=2.0 in /home/dant/.pyenv/versions/3.12.2/lib/python3.12/site-packages (from jinja2->jupyter-server<3,>=2.4.0->notebook>=4.4.1->widgetsnbextension~=3.6.6->ipywidgets<=8.0.4->nbdev) (2.1.5)\r\n",
      "Requirement already satisfied: attrs>=22.2.0 in /home/dant/.pyenv/versions/3.12.2/lib/python3.12/site-packages (from jsonschema>=4.18.0->jupyterlab-server<3,>=2.22.1->notebook>=4.4.1->widgetsnbextension~=3.6.6->ipywidgets<=8.0.4->nbdev) (23.2.0)\r\n",
      "Requirement already satisfied: jsonschema-specifications>=2023.03.6 in /home/dant/.pyenv/versions/3.12.2/lib/python3.12/site-packages (from jsonschema>=4.18.0->jupyterlab-server<3,>=2.22.1->notebook>=4.4.1->widgetsnbextension~=3.6.6->ipywidgets<=8.0.4->nbdev) (2023.12.1)\r\n",
      "Requirement already satisfied: referencing>=0.28.4 in /home/dant/.pyenv/versions/3.12.2/lib/python3.12/site-packages (from jsonschema>=4.18.0->jupyterlab-server<3,>=2.22.1->notebook>=4.4.1->widgetsnbextension~=3.6.6->ipywidgets<=8.0.4->nbdev) (0.34.0)\r\n",
      "Requirement already satisfied: rpds-py>=0.7.1 in /home/dant/.pyenv/versions/3.12.2/lib/python3.12/site-packages (from jsonschema>=4.18.0->jupyterlab-server<3,>=2.22.1->notebook>=4.4.1->widgetsnbextension~=3.6.6->ipywidgets<=8.0.4->nbdev) (0.18.0)\r\n",
      "Requirement already satisfied: python-dateutil>=2.8.2 in /home/dant/.pyenv/versions/3.12.2/lib/python3.12/site-packages (from jupyter-client>=7.4.4->jupyter-server<3,>=2.4.0->notebook>=4.4.1->widgetsnbextension~=3.6.6->ipywidgets<=8.0.4->nbdev) (2.9.0.post0)\r\n",
      "Requirement already satisfied: platformdirs>=2.5 in /home/dant/.pyenv/versions/3.12.2/lib/python3.12/site-packages (from jupyter-core!=5.0.*,>=4.12->jupyter-server<3,>=2.4.0->notebook>=4.4.1->widgetsnbextension~=3.6.6->ipywidgets<=8.0.4->nbdev) (4.2.0)\r\n",
      "Requirement already satisfied: python-json-logger>=2.0.4 in /home/dant/.pyenv/versions/3.12.2/lib/python3.12/site-packages (from jupyter-events>=0.9.0->jupyter-server<3,>=2.4.0->notebook>=4.4.1->widgetsnbextension~=3.6.6->ipywidgets<=8.0.4->nbdev) (2.0.7)\r\n",
      "Requirement already satisfied: rfc3339-validator in /home/dant/.pyenv/versions/3.12.2/lib/python3.12/site-packages (from jupyter-events>=0.9.0->jupyter-server<3,>=2.4.0->notebook>=4.4.1->widgetsnbextension~=3.6.6->ipywidgets<=8.0.4->nbdev) (0.1.4)\r\n",
      "Requirement already satisfied: rfc3986-validator>=0.1.1 in /home/dant/.pyenv/versions/3.12.2/lib/python3.12/site-packages (from jupyter-events>=0.9.0->jupyter-server<3,>=2.4.0->notebook>=4.4.1->widgetsnbextension~=3.6.6->ipywidgets<=8.0.4->nbdev) (0.1.1)\r\n",
      "Requirement already satisfied: beautifulsoup4 in /home/dant/.pyenv/versions/3.12.2/lib/python3.12/site-packages (from nbconvert>=6.4.4->jupyter-server<3,>=2.4.0->notebook>=4.4.1->widgetsnbextension~=3.6.6->ipywidgets<=8.0.4->nbdev) (4.12.3)\r\n",
      "Requirement already satisfied: bleach!=5.0.0 in /home/dant/.pyenv/versions/3.12.2/lib/python3.12/site-packages (from nbconvert>=6.4.4->jupyter-server<3,>=2.4.0->notebook>=4.4.1->widgetsnbextension~=3.6.6->ipywidgets<=8.0.4->nbdev) (6.1.0)\r\n",
      "Requirement already satisfied: defusedxml in /home/dant/.pyenv/versions/3.12.2/lib/python3.12/site-packages (from nbconvert>=6.4.4->jupyter-server<3,>=2.4.0->notebook>=4.4.1->widgetsnbextension~=3.6.6->ipywidgets<=8.0.4->nbdev) (0.7.1)\r\n",
      "Requirement already satisfied: jupyterlab-pygments in /home/dant/.pyenv/versions/3.12.2/lib/python3.12/site-packages (from nbconvert>=6.4.4->jupyter-server<3,>=2.4.0->notebook>=4.4.1->widgetsnbextension~=3.6.6->ipywidgets<=8.0.4->nbdev) (0.3.0)\r\n",
      "Requirement already satisfied: mistune<4,>=2.0.3 in /home/dant/.pyenv/versions/3.12.2/lib/python3.12/site-packages (from nbconvert>=6.4.4->jupyter-server<3,>=2.4.0->notebook>=4.4.1->widgetsnbextension~=3.6.6->ipywidgets<=8.0.4->nbdev) (3.0.2)\r\n",
      "Requirement already satisfied: nbclient>=0.5.0 in /home/dant/.pyenv/versions/3.12.2/lib/python3.12/site-packages (from nbconvert>=6.4.4->jupyter-server<3,>=2.4.0->notebook>=4.4.1->widgetsnbextension~=3.6.6->ipywidgets<=8.0.4->nbdev) (0.10.0)\r\n",
      "Requirement already satisfied: pandocfilters>=1.4.1 in /home/dant/.pyenv/versions/3.12.2/lib/python3.12/site-packages (from nbconvert>=6.4.4->jupyter-server<3,>=2.4.0->notebook>=4.4.1->widgetsnbextension~=3.6.6->ipywidgets<=8.0.4->nbdev) (1.5.1)\r\n",
      "Requirement already satisfied: tinycss2 in /home/dant/.pyenv/versions/3.12.2/lib/python3.12/site-packages (from nbconvert>=6.4.4->jupyter-server<3,>=2.4.0->notebook>=4.4.1->widgetsnbextension~=3.6.6->ipywidgets<=8.0.4->nbdev) (1.2.1)\r\n",
      "Requirement already satisfied: fastjsonschema in /home/dant/.pyenv/versions/3.12.2/lib/python3.12/site-packages (from nbformat>=5.3.0->jupyter-server<3,>=2.4.0->notebook>=4.4.1->widgetsnbextension~=3.6.6->ipywidgets<=8.0.4->nbdev) (2.19.1)\r\n",
      "Requirement already satisfied: charset-normalizer<4,>=2 in /home/dant/.pyenv/versions/3.12.2/lib/python3.12/site-packages (from requests>=2.31->jupyterlab-server<3,>=2.22.1->notebook>=4.4.1->widgetsnbextension~=3.6.6->ipywidgets<=8.0.4->nbdev) (3.3.2)\r\n",
      "Requirement already satisfied: urllib3<3,>=1.21.1 in /home/dant/.pyenv/versions/3.12.2/lib/python3.12/site-packages (from requests>=2.31->jupyterlab-server<3,>=2.22.1->notebook>=4.4.1->widgetsnbextension~=3.6.6->ipywidgets<=8.0.4->nbdev) (2.2.1)\r\n",
      "Requirement already satisfied: argon2-cffi-bindings in /home/dant/.pyenv/versions/3.12.2/lib/python3.12/site-packages (from argon2-cffi->jupyter-server<3,>=2.4.0->notebook>=4.4.1->widgetsnbextension~=3.6.6->ipywidgets<=8.0.4->nbdev) (21.2.0)\r\n",
      "Requirement already satisfied: debugpy>=1.6.5 in /home/dant/.pyenv/versions/3.12.2/lib/python3.12/site-packages (from ipykernel->jupyterlab<4.2,>=4.1.1->notebook>=4.4.1->widgetsnbextension~=3.6.6->ipywidgets<=8.0.4->nbdev) (1.8.1)\r\n",
      "Requirement already satisfied: nest-asyncio in /home/dant/.pyenv/versions/3.12.2/lib/python3.12/site-packages (from ipykernel->jupyterlab<4.2,>=4.1.1->notebook>=4.4.1->widgetsnbextension~=3.6.6->ipywidgets<=8.0.4->nbdev) (1.6.0)\r\n",
      "Requirement already satisfied: psutil in /home/dant/.pyenv/versions/3.12.2/lib/python3.12/site-packages (from ipykernel->jupyterlab<4.2,>=4.1.1->notebook>=4.4.1->widgetsnbextension~=3.6.6->ipywidgets<=8.0.4->nbdev) (5.9.8)\r\n",
      "Requirement already satisfied: webencodings in /home/dant/.pyenv/versions/3.12.2/lib/python3.12/site-packages (from bleach!=5.0.0->nbconvert>=6.4.4->jupyter-server<3,>=2.4.0->notebook>=4.4.1->widgetsnbextension~=3.6.6->ipywidgets<=8.0.4->nbdev) (0.5.1)\r\n",
      "Requirement already satisfied: fqdn in /home/dant/.pyenv/versions/3.12.2/lib/python3.12/site-packages (from jsonschema[format-nongpl]>=4.18.0->jupyter-events>=0.9.0->jupyter-server<3,>=2.4.0->notebook>=4.4.1->widgetsnbextension~=3.6.6->ipywidgets<=8.0.4->nbdev) (1.5.1)\r\n",
      "Requirement already satisfied: isoduration in /home/dant/.pyenv/versions/3.12.2/lib/python3.12/site-packages (from jsonschema[format-nongpl]>=4.18.0->jupyter-events>=0.9.0->jupyter-server<3,>=2.4.0->notebook>=4.4.1->widgetsnbextension~=3.6.6->ipywidgets<=8.0.4->nbdev) (20.11.0)\r\n",
      "Requirement already satisfied: jsonpointer>1.13 in /home/dant/.pyenv/versions/3.12.2/lib/python3.12/site-packages (from jsonschema[format-nongpl]>=4.18.0->jupyter-events>=0.9.0->jupyter-server<3,>=2.4.0->notebook>=4.4.1->widgetsnbextension~=3.6.6->ipywidgets<=8.0.4->nbdev) (2.4)\r\n",
      "Requirement already satisfied: uri-template in /home/dant/.pyenv/versions/3.12.2/lib/python3.12/site-packages (from jsonschema[format-nongpl]>=4.18.0->jupyter-events>=0.9.0->jupyter-server<3,>=2.4.0->notebook>=4.4.1->widgetsnbextension~=3.6.6->ipywidgets<=8.0.4->nbdev) (1.3.0)\r\n",
      "Requirement already satisfied: webcolors>=1.11 in /home/dant/.pyenv/versions/3.12.2/lib/python3.12/site-packages (from jsonschema[format-nongpl]>=4.18.0->jupyter-events>=0.9.0->jupyter-server<3,>=2.4.0->notebook>=4.4.1->widgetsnbextension~=3.6.6->ipywidgets<=8.0.4->nbdev) (1.13)\r\n",
      "Requirement already satisfied: cffi>=1.0.1 in /home/dant/.pyenv/versions/3.12.2/lib/python3.12/site-packages (from argon2-cffi-bindings->argon2-cffi->jupyter-server<3,>=2.4.0->notebook>=4.4.1->widgetsnbextension~=3.6.6->ipywidgets<=8.0.4->nbdev) (1.16.0)\r\n",
      "Requirement already satisfied: soupsieve>1.2 in /home/dant/.pyenv/versions/3.12.2/lib/python3.12/site-packages (from beautifulsoup4->nbconvert>=6.4.4->jupyter-server<3,>=2.4.0->notebook>=4.4.1->widgetsnbextension~=3.6.6->ipywidgets<=8.0.4->nbdev) (2.5)\r\n",
      "Requirement already satisfied: pycparser in /home/dant/.pyenv/versions/3.12.2/lib/python3.12/site-packages (from cffi>=1.0.1->argon2-cffi-bindings->argon2-cffi->jupyter-server<3,>=2.4.0->notebook>=4.4.1->widgetsnbextension~=3.6.6->ipywidgets<=8.0.4->nbdev) (2.21)\r\n",
      "Requirement already satisfied: arrow>=0.15.0 in /home/dant/.pyenv/versions/3.12.2/lib/python3.12/site-packages (from isoduration->jsonschema[format-nongpl]>=4.18.0->jupyter-events>=0.9.0->jupyter-server<3,>=2.4.0->notebook>=4.4.1->widgetsnbextension~=3.6.6->ipywidgets<=8.0.4->nbdev) (1.3.0)\r\n",
      "Requirement already satisfied: types-python-dateutil>=2.8.10 in /home/dant/.pyenv/versions/3.12.2/lib/python3.12/site-packages (from arrow>=0.15.0->isoduration->jsonschema[format-nongpl]>=4.18.0->jupyter-events>=0.9.0->jupyter-server<3,>=2.4.0->notebook>=4.4.1->widgetsnbextension~=3.6.6->ipywidgets<=8.0.4->nbdev) (2.9.0.20240316)\r\n",
      "Downloading nbdev-2.3.13-py3-none-any.whl (66 kB)\r\n",
      "\u001B[2K   \u001B[90m━━━━━━━━━━━━━━━━━━━━━━━━━━━━━━━━━━━━━━━━\u001B[0m \u001B[32m66.1/66.1 kB\u001B[0m \u001B[31m1.6 MB/s\u001B[0m eta \u001B[36m0:00:00\u001B[0ma \u001B[36m0:00:01\u001B[0m\r\n",
      "\u001B[?25hDownloading execnb-0.1.5-py3-none-any.whl (13 kB)\r\n",
      "Downloading ghapi-1.0.4-py3-none-any.whl (58 kB)\r\n",
      "\u001B[2K   \u001B[90m━━━━━━━━━━━━━━━━━━━━━━━━━━━━━━━━━━━━━━━━\u001B[0m \u001B[32m58.7/58.7 kB\u001B[0m \u001B[31m6.2 MB/s\u001B[0m eta \u001B[36m0:00:00\u001B[0m\r\n",
      "\u001B[?25hDownloading astunparse-1.6.3-py2.py3-none-any.whl (12 kB)\r\n",
      "Downloading watchdog-4.0.0-py3-none-manylinux2014_x86_64.whl (82 kB)\r\n",
      "\u001B[2K   \u001B[90m━━━━━━━━━━━━━━━━━━━━━━━━━━━━━━━━━━━━━━━━\u001B[0m \u001B[32m83.0/83.0 kB\u001B[0m \u001B[31m6.9 MB/s\u001B[0m eta \u001B[36m0:00:00\u001B[0m\r\n",
      "\u001B[?25hUsing cached wheel-0.43.0-py3-none-any.whl (65 kB)\r\n",
      "Installing collected packages: wheel, watchdog, ghapi, astunparse, execnb, nbdev\r\n",
      "Successfully installed astunparse-1.6.3 execnb-0.1.5 ghapi-1.0.4 nbdev-2.3.13 watchdog-4.0.0 wheel-0.43.0\r\n"
     ]
    }
   ],
   "source": [
    "!pip install nbdev"
   ],
   "metadata": {
    "collapsed": false,
    "ExecuteTime": {
     "end_time": "2024-03-20T16:27:22.125991Z",
     "start_time": "2024-03-20T16:27:14.661541Z"
    }
   },
   "id": "710b42e22e2ab483",
   "execution_count": 16
  },
  {
   "cell_type": "code",
   "outputs": [],
   "source": [],
   "metadata": {
    "collapsed": false
   },
   "id": "8ba86731f68d5710"
  }
 ],
 "metadata": {
  "kernelspec": {
   "name": "python3",
   "language": "python",
   "display_name": "Python 3"
  },
  "language_info": {
   "codemirror_mode": {
    "name": "ipython",
    "version": 2
   },
   "file_extension": ".py",
   "mimetype": "text/x-python",
   "name": "python",
   "nbconvert_exporter": "python",
   "pygments_lexer": "ipython2",
   "version": "2.7.6"
  }
 },
 "nbformat": 4,
 "nbformat_minor": 5
}

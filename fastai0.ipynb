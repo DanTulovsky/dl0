{
 "cells": [
  {
   "cell_type": "code",
   "outputs": [
    {
     "name": "stdout",
     "output_type": "stream",
     "text": [
      "Requirement already satisfied: graphviz in /Users/dant/.pyenv/versions/hf/lib/python3.12/site-packages (0.20.2)\r\n"
     ]
    }
   ],
   "source": [
    "!pip install -Uqq fastbook\n",
    "!pip install graphviz\n",
    "import fastbook\n",
    "fastbook.setup_book()\n",
    "from fastbook import *"
   ],
   "metadata": {
    "collapsed": false,
    "ExecuteTime": {
     "end_time": "2024-03-18T22:19:48.899792Z",
     "start_time": "2024-03-18T22:19:36.314003Z"
    }
   },
   "id": "f6bd95fb85a3ba6a",
   "execution_count": 5
  },
  {
   "cell_type": "code",
   "outputs": [],
   "source": [
    "from fastai.vision.all import *\n",
    "\n",
    "path = untar_data(URLs.PETS)/'images'\n",
    "\n",
    "def is_cat(x): return x[0].isupper()\n",
    "\n",
    "dls = ImageDataLoaders.from_name_func(\n",
    "    path, get_image_files(path), valid_pct=0.2, seed=42,\n",
    "    label_func=is_cat, item_tfms=Resize(224))\n"
   ],
   "metadata": {
    "collapsed": false,
    "ExecuteTime": {
     "end_time": "2024-03-18T22:19:49.921256Z",
     "start_time": "2024-03-18T22:19:48.904865Z"
    }
   },
   "id": "25e5600b39f6d7c8",
   "execution_count": 6
  },
  {
   "cell_type": "code",
   "outputs": [
    {
     "data": {
      "text/plain": "<fastai.data.core.DataLoaders at 0x1327fa960>"
     },
     "execution_count": 7,
     "metadata": {},
     "output_type": "execute_result"
    }
   ],
   "source": [
    "dls"
   ],
   "metadata": {
    "collapsed": false,
    "ExecuteTime": {
     "end_time": "2024-03-18T22:19:49.946581Z",
     "start_time": "2024-03-18T22:19:49.922811Z"
    }
   },
   "id": "66cd5bc7d701cb66",
   "execution_count": 7
  },
  {
   "cell_type": "code",
   "outputs": [
    {
     "name": "stdout",
     "output_type": "stream",
     "text": [
      "<fastai.data.core.TfmdDL object at 0x1319f56a0>\n",
      "<fastai.data.core.TfmdDL object at 0x12fd94650>\n"
     ]
    }
   ],
   "source": [
    "for x in dls:\n",
    "    print(x)"
   ],
   "metadata": {
    "collapsed": false,
    "ExecuteTime": {
     "end_time": "2024-03-18T22:19:49.957887Z",
     "start_time": "2024-03-18T22:19:49.951593Z"
    }
   },
   "id": "bbbf3dabbb702d91",
   "execution_count": 8
  },
  {
   "cell_type": "code",
   "outputs": [
    {
     "name": "stderr",
     "output_type": "stream",
     "text": [
      "Downloading: \"https://download.pytorch.org/models/resnet34-b627a593.pth\" to /Users/dant/.cache/torch/hub/checkpoints/resnet34-b627a593.pth\n",
      "100%|██████████| 83.3M/83.3M [00:04<00:00, 18.6MB/s]\n"
     ]
    }
   ],
   "source": [
    "learn = vision_learner(dls, resnet34, metrics=error_rate)"
   ],
   "metadata": {
    "collapsed": false,
    "ExecuteTime": {
     "end_time": "2024-03-18T22:20:41.398221Z",
     "start_time": "2024-03-18T22:20:35.469571Z"
    }
   },
   "id": "3a8e7225dc795a23",
   "execution_count": 9
  },
  {
   "cell_type": "code",
   "outputs": [],
   "source": [],
   "metadata": {
    "collapsed": false
   },
   "id": "407a34f8553aa658"
  }
 ],
 "metadata": {
  "kernelspec": {
   "name": "hf",
   "language": "python",
   "display_name": "hf"
  },
  "language_info": {
   "codemirror_mode": {
    "name": "ipython",
    "version": 2
   },
   "file_extension": ".py",
   "mimetype": "text/x-python",
   "name": "python",
   "nbconvert_exporter": "python",
   "pygments_lexer": "ipython2",
   "version": "2.7.6"
  }
 },
 "nbformat": 4,
 "nbformat_minor": 5
}
